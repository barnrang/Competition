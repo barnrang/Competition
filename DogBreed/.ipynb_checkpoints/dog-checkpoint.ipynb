{
 "cells": [
  {
   "cell_type": "code",
   "execution_count": 1,
   "metadata": {},
   "outputs": [],
   "source": [
    "import numpy as np\n",
    "import pandas as pd\n",
    "from sklearn import preprocessing\n",
    "from sklearn.model_selection import train_test_split\n",
    "import matplotlib.pyplot as plt\n",
    "from PIL import Image\n",
    "%matplotlib inline"
   ]
  },
  {
   "cell_type": "code",
   "execution_count": 34,
   "metadata": {},
   "outputs": [
    {
     "name": "stderr",
     "output_type": "stream",
     "text": [
      "/home/barnrang/anaconda3/envs/chatbot/lib/python3.6/importlib/_bootstrap.py:205: RuntimeWarning: compiletime version 3.5 of module 'tensorflow.python.framework.fast_tensor_util' does not match runtime version 3.6\n",
      "  return f(*args, **kwds)\n"
     ]
    }
   ],
   "source": [
    "import tensorflow as tf"
   ]
  },
  {
   "cell_type": "code",
   "execution_count": 2,
   "metadata": {
    "collapsed": true
   },
   "outputs": [],
   "source": [
    "df_train = pd.read_csv('labels.csv')\n",
    "df_test = pd.read_csv('sample_submission.csv')"
   ]
  },
  {
   "cell_type": "code",
   "execution_count": 60,
   "metadata": {},
   "outputs": [
    {
     "data": {
      "text/html": [
       "<div>\n",
       "<style>\n",
       "    .dataframe thead tr:only-child th {\n",
       "        text-align: right;\n",
       "    }\n",
       "\n",
       "    .dataframe thead th {\n",
       "        text-align: left;\n",
       "    }\n",
       "\n",
       "    .dataframe tbody tr th {\n",
       "        vertical-align: top;\n",
       "    }\n",
       "</style>\n",
       "<table border=\"1\" class=\"dataframe\">\n",
       "  <thead>\n",
       "    <tr style=\"text-align: right;\">\n",
       "      <th></th>\n",
       "      <th>id</th>\n",
       "      <th>breed</th>\n",
       "    </tr>\n",
       "  </thead>\n",
       "  <tbody>\n",
       "    <tr>\n",
       "      <th>0</th>\n",
       "      <td>000bec180eb18c7604dcecc8fe0dba07</td>\n",
       "      <td>boston_bull</td>\n",
       "    </tr>\n",
       "    <tr>\n",
       "      <th>1</th>\n",
       "      <td>001513dfcb2ffafc82cccf4d8bbaba97</td>\n",
       "      <td>dingo</td>\n",
       "    </tr>\n",
       "    <tr>\n",
       "      <th>2</th>\n",
       "      <td>001cdf01b096e06d78e9e5112d419397</td>\n",
       "      <td>pekinese</td>\n",
       "    </tr>\n",
       "    <tr>\n",
       "      <th>3</th>\n",
       "      <td>00214f311d5d2247d5dfe4fe24b2303d</td>\n",
       "      <td>bluetick</td>\n",
       "    </tr>\n",
       "    <tr>\n",
       "      <th>4</th>\n",
       "      <td>0021f9ceb3235effd7fcde7f7538ed62</td>\n",
       "      <td>golden_retriever</td>\n",
       "    </tr>\n",
       "  </tbody>\n",
       "</table>\n",
       "</div>"
      ],
      "text/plain": [
       "                                 id             breed\n",
       "0  000bec180eb18c7604dcecc8fe0dba07       boston_bull\n",
       "1  001513dfcb2ffafc82cccf4d8bbaba97             dingo\n",
       "2  001cdf01b096e06d78e9e5112d419397          pekinese\n",
       "3  00214f311d5d2247d5dfe4fe24b2303d          bluetick\n",
       "4  0021f9ceb3235effd7fcde7f7538ed62  golden_retriever"
      ]
     },
     "execution_count": 60,
     "metadata": {},
     "output_type": "execute_result"
    }
   ],
   "source": [
    "df_train.head()"
   ]
  },
  {
   "cell_type": "code",
   "execution_count": 58,
   "metadata": {},
   "outputs": [],
   "source": [
    "typelist = df_test.columns\n",
    "typelist = typelist[1:]"
   ]
  },
  {
   "cell_type": "code",
   "execution_count": 59,
   "metadata": {
    "collapsed": true
   },
   "outputs": [],
   "source": [
    "mapping = {typelist[i]:i for i in range(120)}"
   ]
  },
  {
   "cell_type": "code",
   "execution_count": 62,
   "metadata": {},
   "outputs": [
    {
     "data": {
      "text/plain": [
       "{'affenpinscher': 0,\n",
       " 'afghan_hound': 1,\n",
       " 'african_hunting_dog': 2,\n",
       " 'airedale': 3,\n",
       " 'american_staffordshire_terrier': 4,\n",
       " 'appenzeller': 5,\n",
       " 'australian_terrier': 6,\n",
       " 'basenji': 7,\n",
       " 'basset': 8,\n",
       " 'beagle': 9,\n",
       " 'bedlington_terrier': 10,\n",
       " 'bernese_mountain_dog': 11,\n",
       " 'black-and-tan_coonhound': 12,\n",
       " 'blenheim_spaniel': 13,\n",
       " 'bloodhound': 14,\n",
       " 'bluetick': 15,\n",
       " 'border_collie': 16,\n",
       " 'border_terrier': 17,\n",
       " 'borzoi': 18,\n",
       " 'boston_bull': 19,\n",
       " 'bouvier_des_flandres': 20,\n",
       " 'boxer': 21,\n",
       " 'brabancon_griffon': 22,\n",
       " 'briard': 23,\n",
       " 'brittany_spaniel': 24,\n",
       " 'bull_mastiff': 25,\n",
       " 'cairn': 26,\n",
       " 'cardigan': 27,\n",
       " 'chesapeake_bay_retriever': 28,\n",
       " 'chihuahua': 29,\n",
       " 'chow': 30,\n",
       " 'clumber': 31,\n",
       " 'cocker_spaniel': 32,\n",
       " 'collie': 33,\n",
       " 'curly-coated_retriever': 34,\n",
       " 'dandie_dinmont': 35,\n",
       " 'dhole': 36,\n",
       " 'dingo': 37,\n",
       " 'doberman': 38,\n",
       " 'english_foxhound': 39,\n",
       " 'english_setter': 40,\n",
       " 'english_springer': 41,\n",
       " 'entlebucher': 42,\n",
       " 'eskimo_dog': 43,\n",
       " 'flat-coated_retriever': 44,\n",
       " 'french_bulldog': 45,\n",
       " 'german_shepherd': 46,\n",
       " 'german_short-haired_pointer': 47,\n",
       " 'giant_schnauzer': 48,\n",
       " 'golden_retriever': 49,\n",
       " 'gordon_setter': 50,\n",
       " 'great_dane': 51,\n",
       " 'great_pyrenees': 52,\n",
       " 'greater_swiss_mountain_dog': 53,\n",
       " 'groenendael': 54,\n",
       " 'ibizan_hound': 55,\n",
       " 'irish_setter': 56,\n",
       " 'irish_terrier': 57,\n",
       " 'irish_water_spaniel': 58,\n",
       " 'irish_wolfhound': 59,\n",
       " 'italian_greyhound': 60,\n",
       " 'japanese_spaniel': 61,\n",
       " 'keeshond': 62,\n",
       " 'kelpie': 63,\n",
       " 'kerry_blue_terrier': 64,\n",
       " 'komondor': 65,\n",
       " 'kuvasz': 66,\n",
       " 'labrador_retriever': 67,\n",
       " 'lakeland_terrier': 68,\n",
       " 'leonberg': 69,\n",
       " 'lhasa': 70,\n",
       " 'malamute': 71,\n",
       " 'malinois': 72,\n",
       " 'maltese_dog': 73,\n",
       " 'mexican_hairless': 74,\n",
       " 'miniature_pinscher': 75,\n",
       " 'miniature_poodle': 76,\n",
       " 'miniature_schnauzer': 77,\n",
       " 'newfoundland': 78,\n",
       " 'norfolk_terrier': 79,\n",
       " 'norwegian_elkhound': 80,\n",
       " 'norwich_terrier': 81,\n",
       " 'old_english_sheepdog': 82,\n",
       " 'otterhound': 83,\n",
       " 'papillon': 84,\n",
       " 'pekinese': 85,\n",
       " 'pembroke': 86,\n",
       " 'pomeranian': 87,\n",
       " 'pug': 88,\n",
       " 'redbone': 89,\n",
       " 'rhodesian_ridgeback': 90,\n",
       " 'rottweiler': 91,\n",
       " 'saint_bernard': 92,\n",
       " 'saluki': 93,\n",
       " 'samoyed': 94,\n",
       " 'schipperke': 95,\n",
       " 'scotch_terrier': 96,\n",
       " 'scottish_deerhound': 97,\n",
       " 'sealyham_terrier': 98,\n",
       " 'shetland_sheepdog': 99,\n",
       " 'shih-tzu': 100,\n",
       " 'siberian_husky': 101,\n",
       " 'silky_terrier': 102,\n",
       " 'soft-coated_wheaten_terrier': 103,\n",
       " 'staffordshire_bullterrier': 104,\n",
       " 'standard_poodle': 105,\n",
       " 'standard_schnauzer': 106,\n",
       " 'sussex_spaniel': 107,\n",
       " 'tibetan_mastiff': 108,\n",
       " 'tibetan_terrier': 109,\n",
       " 'toy_poodle': 110,\n",
       " 'toy_terrier': 111,\n",
       " 'vizsla': 112,\n",
       " 'walker_hound': 113,\n",
       " 'weimaraner': 114,\n",
       " 'welsh_springer_spaniel': 115,\n",
       " 'west_highland_white_terrier': 116,\n",
       " 'whippet': 117,\n",
       " 'wire-haired_fox_terrier': 118,\n",
       " 'yorkshire_terrier': 119}"
      ]
     },
     "execution_count": 62,
     "metadata": {},
     "output_type": "execute_result"
    }
   ],
   "source": [
    "mapping"
   ]
  },
  {
   "cell_type": "code",
   "execution_count": 66,
   "metadata": {},
   "outputs": [],
   "source": [
    "df_train['breed'] = df_train['breed'].map(mapping)"
   ]
  },
  {
   "cell_type": "code",
   "execution_count": 67,
   "metadata": {
    "scrolled": true
   },
   "outputs": [
    {
     "data": {
      "text/html": [
       "<div>\n",
       "<style>\n",
       "    .dataframe thead tr:only-child th {\n",
       "        text-align: right;\n",
       "    }\n",
       "\n",
       "    .dataframe thead th {\n",
       "        text-align: left;\n",
       "    }\n",
       "\n",
       "    .dataframe tbody tr th {\n",
       "        vertical-align: top;\n",
       "    }\n",
       "</style>\n",
       "<table border=\"1\" class=\"dataframe\">\n",
       "  <thead>\n",
       "    <tr style=\"text-align: right;\">\n",
       "      <th></th>\n",
       "      <th>id</th>\n",
       "      <th>breed</th>\n",
       "    </tr>\n",
       "  </thead>\n",
       "  <tbody>\n",
       "    <tr>\n",
       "      <th>0</th>\n",
       "      <td>000bec180eb18c7604dcecc8fe0dba07</td>\n",
       "      <td>19</td>\n",
       "    </tr>\n",
       "    <tr>\n",
       "      <th>1</th>\n",
       "      <td>001513dfcb2ffafc82cccf4d8bbaba97</td>\n",
       "      <td>37</td>\n",
       "    </tr>\n",
       "    <tr>\n",
       "      <th>2</th>\n",
       "      <td>001cdf01b096e06d78e9e5112d419397</td>\n",
       "      <td>85</td>\n",
       "    </tr>\n",
       "    <tr>\n",
       "      <th>3</th>\n",
       "      <td>00214f311d5d2247d5dfe4fe24b2303d</td>\n",
       "      <td>15</td>\n",
       "    </tr>\n",
       "    <tr>\n",
       "      <th>4</th>\n",
       "      <td>0021f9ceb3235effd7fcde7f7538ed62</td>\n",
       "      <td>49</td>\n",
       "    </tr>\n",
       "  </tbody>\n",
       "</table>\n",
       "</div>"
      ],
      "text/plain": [
       "                                 id  breed\n",
       "0  000bec180eb18c7604dcecc8fe0dba07     19\n",
       "1  001513dfcb2ffafc82cccf4d8bbaba97     37\n",
       "2  001cdf01b096e06d78e9e5112d419397     85\n",
       "3  00214f311d5d2247d5dfe4fe24b2303d     15\n",
       "4  0021f9ceb3235effd7fcde7f7538ed62     49"
      ]
     },
     "execution_count": 67,
     "metadata": {},
     "output_type": "execute_result"
    }
   ],
   "source": [
    "df_train.head()"
   ]
  },
  {
   "cell_type": "code",
   "execution_count": 68,
   "metadata": {
    "collapsed": true
   },
   "outputs": [],
   "source": [
    "y_train = df_train['breed'].as_matrix()"
   ]
  },
  {
   "cell_type": "code",
   "execution_count": 69,
   "metadata": {},
   "outputs": [
    {
     "data": {
      "text/plain": [
       "array([19, 37, 85, ...,  3, 75, 28])"
      ]
     },
     "execution_count": 69,
     "metadata": {},
     "output_type": "execute_result"
    }
   ],
   "source": [
    "y_train"
   ]
  },
  {
   "cell_type": "code",
   "execution_count": 4,
   "metadata": {
    "collapsed": true
   },
   "outputs": [],
   "source": [
    "name_test = df_train['id'].iloc[0]"
   ]
  },
  {
   "cell_type": "code",
   "execution_count": 32,
   "metadata": {},
   "outputs": [
    {
     "data": {
      "text/plain": [
       "Index(['id', 'affenpinscher', 'afghan_hound', 'african_hunting_dog',\n",
       "       'airedale', 'american_staffordshire_terrier', 'appenzeller',\n",
       "       'australian_terrier', 'basenji', 'basset',\n",
       "       ...\n",
       "       'toy_poodle', 'toy_terrier', 'vizsla', 'walker_hound', 'weimaraner',\n",
       "       'welsh_springer_spaniel', 'west_highland_white_terrier', 'whippet',\n",
       "       'wire-haired_fox_terrier', 'yorkshire_terrier'],\n",
       "      dtype='object', length=121)"
      ]
     },
     "execution_count": 32,
     "metadata": {},
     "output_type": "execute_result"
    }
   ],
   "source": [
    "df_test.columns"
   ]
  },
  {
   "cell_type": "code",
   "execution_count": 5,
   "metadata": {},
   "outputs": [
    {
     "data": {
      "text/plain": [
       "'000bec180eb18c7604dcecc8fe0dba07'"
      ]
     },
     "execution_count": 5,
     "metadata": {},
     "output_type": "execute_result"
    }
   ],
   "source": [
    "name_test"
   ]
  },
  {
   "cell_type": "code",
   "execution_count": 6,
   "metadata": {
    "collapsed": true
   },
   "outputs": [],
   "source": [
    "M = Image.open('train/{}.jpg'.format(name_test))"
   ]
  },
  {
   "cell_type": "code",
   "execution_count": 7,
   "metadata": {
    "collapsed": true
   },
   "outputs": [],
   "source": [
    "M = M.resize((200,200))"
   ]
  },
  {
   "cell_type": "code",
   "execution_count": 8,
   "metadata": {
    "scrolled": false
   },
   "outputs": [
    {
     "data": {
      "image/png": "[encoded data removed]",
      "text/plain": [
       "<matplotlib.figure.Figure at 0x7fd09623f400>"
      ]
     },
     "metadata": {},
     "output_type": "display_data"
    }
   ],
   "source": [
    "plt.imshow(M)\n",
    "plt.show()"
   ]
  },
  {
   "cell_type": "code",
   "execution_count": 12,
   "metadata": {},
   "outputs": [
    {
     "data": {
      "text/plain": [
       "10222"
      ]
     },
     "execution_count": 12,
     "metadata": {},
     "output_type": "execute_result"
    }
   ],
   "source": [
    "N = len(df_train['id'])\n",
    "N"
   ]
  },
  {
   "cell_type": "code",
   "execution_count": 20,
   "metadata": {},
   "outputs": [],
   "source": [
    "X_train = np.zeros((N,imsize,imsize,3))\n",
    "imsize = 60"
   ]
  },
  {
   "cell_type": "code",
   "execution_count": 22,
   "metadata": {},
   "outputs": [],
   "source": [
    "for index,name in enumerate(df_train['id']):\n",
    "    M = Image.open('train/{}.jpg'.format(name))\n",
    "    M = M.resize((imsize,imsize))\n",
    "    X_train[index] = np.asarray(M)"
   ]
  },
  {
   "cell_type": "code",
   "execution_count": 24,
   "metadata": {},
   "outputs": [],
   "source": [
    "N_test = len(df_test['id'])\n",
    "X_test = np.zeros((N_test,imsize,imsize,3))\n",
    "\n",
    "for index,name in enumerate(df_test['id']):\n",
    "    M = Image.open('test/{}.jpg'.format(name))\n",
    "    M = M.resize((imsize,imsize))\n",
    "    X_test[index] = np.asarray(M)"
   ]
  },
  {
   "cell_type": "code",
   "execution_count": 25,
   "metadata": {
    "collapsed": true
   },
   "outputs": [],
   "source": [
    "np.save('X_train', X_train)"
   ]
  },
  {
   "cell_type": "code",
   "execution_count": 26,
   "metadata": {
    "collapsed": true
   },
   "outputs": [],
   "source": [
    "np.save('X_test', X_test)"
   ]
  },
  {
   "cell_type": "code",
   "execution_count": 27,
   "metadata": {
    "collapsed": true
   },
   "outputs": [],
   "source": [
    "mean_image = X_train.mean(axis=0)"
   ]
  },
  {
   "cell_type": "code",
   "execution_count": 28,
   "metadata": {
    "collapsed": true
   },
   "outputs": [],
   "source": [
    "#normalize\n",
    "X_train -= mean_image\n",
    "X_test -= mean_image"
   ]
  },
  {
   "cell_type": "code",
   "execution_count": 29,
   "metadata": {
    "collapsed": true
   },
   "outputs": [],
   "source": [
    "X_val = X_train[9000:]\n",
    "X_train = X_train[:9000]"
   ]
  },
  {
   "cell_type": "code",
   "execution_count": 191,
   "metadata": {
    "collapsed": true
   },
   "outputs": [],
   "source": [
    "y_val = y_train[9000:]"
   ]
  },
  {
   "cell_type": "code",
   "execution_count": 192,
   "metadata": {},
   "outputs": [
    {
     "data": {
      "text/plain": [
       "(1222, 1222)"
      ]
     },
     "execution_count": 192,
     "metadata": {},
     "output_type": "execute_result"
    }
   ],
   "source": [
    "len(X_val), len(y_val)"
   ]
  },
  {
   "cell_type": "code",
   "execution_count": 187,
   "metadata": {},
   "outputs": [
    {
     "name": "stdout",
     "output_type": "stream",
     "text": [
      "test\n"
     ]
    }
   ],
   "source": [
    "tf.reset_default_graph()\n",
    "\n",
    "X = tf.placeholder(tf.float32,[None,imsize,imsize,3])\n",
    "y = tf.placeholder(tf.int64,[None])\n",
    "is_training = tf.placeholder(tf.bool)\n",
    "def easy_model(Xin,y, dropout = 0.75, reg_str=1e-4):\n",
    "    reg = 0\n",
    "    with tf.variable_scope('layer0'):\n",
    "        W = tf.get_variable(\"weight\",[2,2,3,10])\n",
    "        b = tf.get_variable(\"bias\",[10])\n",
    "        X = tf.nn.conv2d(Xin,W,strides=[1,1,1,1], padding='SAME') + b\n",
    "        reg += 1/2*(tf.reduce_sum(tf.square(W)) + tf.reduce_sum(tf.square(b)))\n",
    "    with tf.variable_scope('layer1'):\n",
    "        X = tf.nn.relu(X)\n",
    "    with tf.variable_scope('layer2'):\n",
    "        X = tf.nn.max_pool(X, ksize=[1,2,2,1], strides=[1,2,2,1],padding='VALID',data_format='NHWC')\n",
    "    with tf.variable_scope('layer3'):\n",
    "        W = tf.get_variable(\"weight\", [2,2,10,32])\n",
    "        b = tf.get_variable(\"bias\",[32])\n",
    "        X = tf.nn.conv2d(X,W,strides=[1,1,1,1], padding='SAME') + b\n",
    "        reg += 1/2*(tf.reduce_sum(tf.square(W)) + tf.reduce_sum(tf.square(b)))\n",
    "    with tf.variable_scope('layer4'):\n",
    "        X = tf.nn.relu(X)\n",
    "    with tf.variable_scope('layer5'):\n",
    "        X = tf.nn.max_pool(X, ksize=[1,2,2,1], strides=[1,2,2,1],padding='VALID',data_format='NHWC')\n",
    "    with tf.variable_scope('layer6'):\n",
    "        D = imsize * imsize * 2\n",
    "        X = tf.reshape(X,[-1,D])\n",
    "        W = tf.get_variable(\"weight\", [D,1000])\n",
    "        b = tf.get_variable(\"bias\", [1000])\n",
    "        X = tf.matmul(X,W) + b\n",
    "        reg += 1/2*(tf.reduce_sum(tf.square(W)) + tf.reduce_sum(tf.square(b)))\n",
    "        print('test')\n",
    "    with tf.variable_scope('layer7'):\n",
    "        if is_training is not None:\n",
    "            X = tf.nn.dropout(X, keep_prob=dropout)\n",
    "    with tf.variable_scope('layer8'):\n",
    "        X = tf.nn.relu(X)\n",
    "    with tf.variable_scope('layer9'):\n",
    "        W = tf.get_variable(\"weight\", [1000,500])\n",
    "        b = tf.get_variable(\"bias\", [500])\n",
    "        X = tf.matmul(X,W) + b\n",
    "        if is_training is not None:\n",
    "            X = tf.nn.dropout(X, keep_prob=dropout)\n",
    "        X = tf.nn.relu(X)\n",
    "        reg += 1/2*(tf.reduce_sum(tf.square(W)) + tf.reduce_sum(tf.square(b)))\n",
    "    with tf.variable_scope('layer10'):\n",
    "        W = tf.get_variable(\"weight\", [500,120])\n",
    "        b = tf.get_variable(\"bias\", [120])\n",
    "        X = tf.matmul(X,W) + b\n",
    "        reg += 1/2*(tf.reduce_sum(tf.square(W)) + tf.reduce_sum(tf.square(b)))\n",
    "    return X, reg_str * reg\n",
    "\n",
    "y_out, reg = easy_model(X,y)\n",
    "mean_loss = tf.reduce_mean(tf.losses.softmax_cross_entropy(tf.one_hot(y,120), logits=y_out) + reg)\n",
    "optimizer = tf.train.AdamOptimizer(5e-3)\n",
    "train_step = optimizer.minimize(mean_loss)"
   ]
  },
  {
   "cell_type": "code",
   "execution_count": 188,
   "metadata": {},
   "outputs": [
    {
     "data": {
      "text/plain": [
       "array([19, 37, 85, ...,  3, 75, 28])"
      ]
     },
     "execution_count": 188,
     "metadata": {},
     "output_type": "execute_result"
    }
   ],
   "source": [
    "y_train"
   ]
  },
  {
   "cell_type": "code",
   "execution_count": 189,
   "metadata": {
    "collapsed": true
   },
   "outputs": [],
   "source": [
    "def solver(sess, predict, Xin, yin, epochs = 20, batch_size=100,print_every=100,training=None):\n",
    "    correct_score = tf.equal(tf.argmax(predict,1),y)\n",
    "    acc = tf.reduce_sum(tf.cast(correct_score, tf.float32))\n",
    "    N = Xin.shape[0]\n",
    "    train_indicies = np.arange(N)\n",
    "    np.random.shuffle(train_indicies)\n",
    "    iter_count = 0\n",
    "    all_losses = []\n",
    "    return_parameter = [mean_loss,acc,correct_score]\n",
    "    if training is not None:\n",
    "        return_parameter[-1] = training\n",
    "    #print(return_parameter)\n",
    "    for epoch in range(epochs):\n",
    "        correct = 0\n",
    "        losses = []\n",
    "        for i in range(int(np.ceil(N/batch_size))):\n",
    "            start_idx = i * batch_size % N\n",
    "            chose_indices = train_indicies[start_idx:start_idx + batch_size]\n",
    "            X_batch = Xin[chose_indices,:]\n",
    "            y_batch = yin[chose_indices]\n",
    "            feed_dict = {X:X_batch, y:y_batch,is_training:True}\n",
    "            actual_size = y_batch.shape[0]\n",
    "            loss, accuracy,_ = sess.run(return_parameter,feed_dict=feed_dict)\n",
    "            #print(loss,accuracy)\n",
    "            correct += accuracy\n",
    "            losses.append(loss * actual_size)\n",
    "            iter_count += 1\n",
    "            if iter_count % print_every == 0:\n",
    "                print('your loss is {} and correct {}'.format(loss,accuracy))\n",
    "        total_loss = np.sum(losses)/N\n",
    "        total_correct = correct/N\n",
    "        print('Epoch {}: loss is {} acc is {}'.format(epoch, total_loss, total_correct))\n",
    "    return total_loss, total_correct\n",
    "        "
   ]
  },
  {
   "cell_type": "code",
   "execution_count": 190,
   "metadata": {},
   "outputs": [
    {
     "name": "stdout",
     "output_type": "stream",
     "text": [
      "Training\n",
      "Epoch 0: loss is 37.799587636523775 acc is 0.011333333333333334\n",
      "your loss is 5.176071643829346 and correct 2.0\n",
      "Epoch 1: loss is 5.122195927302043 acc is 0.01611111111111111\n",
      "your loss is 5.080284118652344 and correct 3.0\n",
      "Epoch 2: loss is 5.031707530551486 acc is 0.024888888888888887\n",
      "your loss is 4.869243621826172 and correct 2.0\n",
      "Epoch 3: loss is 4.912137370639377 acc is 0.035555555555555556\n",
      "your loss is 4.759076118469238 and correct 9.0\n",
      "Epoch 4: loss is 4.761228455437554 acc is 0.05522222222222222\n",
      "your loss is 4.5900678634643555 and correct 9.0\n",
      "Epoch 5: loss is 4.5571080790625675 acc is 0.09288888888888888\n",
      "your loss is 4.245265483856201 and correct 16.0\n",
      "Epoch 6: loss is 4.35247819688585 acc is 0.144\n",
      "your loss is 3.7464041709899902 and correct 25.0\n",
      "Epoch 7: loss is 4.11728179719713 acc is 0.20255555555555554\n",
      "your loss is 3.6790499687194824 and correct 34.0\n",
      "Epoch 8: loss is 3.9077203194300334 acc is 0.2648888888888889\n",
      "your loss is 3.874358654022217 and correct 31.0\n",
      "Epoch 9: loss is 3.7242148478825885 acc is 0.31666666666666665\n",
      "Epoch 10: loss is 3.641904767354329 acc is 0.36444444444444446\n",
      "your loss is 3.571927785873413 and correct 37.0\n",
      "Epoch 11: loss is 3.539972024493747 acc is 0.405\n",
      "your loss is 3.4387176036834717 and correct 47.0\n",
      "Epoch 12: loss is 3.459323885705736 acc is 0.439\n",
      "your loss is 3.30900239944458 and correct 50.0\n",
      "Epoch 13: loss is 3.342757468753391 acc is 0.479\n",
      "your loss is 3.0152764320373535 and correct 57.0\n",
      "Epoch 14: loss is 3.3120485067367555 acc is 0.514\n",
      "your loss is 3.090639591217041 and correct 61.0\n",
      "Epoch 15: loss is 3.210116484430101 acc is 0.5527777777777778\n",
      "your loss is 2.9211533069610596 and correct 61.0\n",
      "Epoch 16: loss is 3.2165056573020085 acc is 0.5681111111111111\n",
      "your loss is 3.1642203330993652 and correct 63.0\n",
      "Epoch 17: loss is 3.236970811420017 acc is 0.5826666666666667\n",
      "your loss is 3.4047226905822754 and correct 57.0\n",
      "Epoch 18: loss is 3.210864928033617 acc is 0.6077777777777778\n",
      "your loss is 3.2593088150024414 and correct 63.0\n",
      "Epoch 19: loss is 3.34271551767985 acc is 0.5986666666666667\n",
      "Epoch 20: loss is 3.3515801376766627 acc is 0.6148888888888889\n",
      "your loss is 3.1511576175689697 and correct 66.0\n",
      "Epoch 21: loss is 3.286478214793735 acc is 0.6458888888888888\n",
      "your loss is 3.368556499481201 and correct 69.0\n",
      "Epoch 22: loss is 3.4441497882207233 acc is 0.6423333333333333\n",
      "your loss is 3.5728864669799805 and correct 65.0\n",
      "Epoch 23: loss is 3.6462405734592016 acc is 0.615\n",
      "your loss is 3.4680280685424805 and correct 65.0\n",
      "Epoch 24: loss is 3.5897789345847237 acc is 0.644\n",
      "your loss is 4.031067848205566 and correct 53.0\n",
      "Epoch 25: loss is 3.6206191619237265 acc is 0.6506666666666666\n",
      "your loss is 4.439270973205566 and correct 48.0\n",
      "Epoch 26: loss is 3.9177133825090196 acc is 0.6262222222222222\n",
      "your loss is 4.520431995391846 and correct 55.0\n",
      "Epoch 27: loss is 4.188434508111742 acc is 0.5951111111111111\n",
      "your loss is 4.764122009277344 and correct 55.0\n",
      "Epoch 28: loss is 4.125695747799344 acc is 0.6354444444444445\n",
      "your loss is 4.52785587310791 and correct 57.0\n",
      "Epoch 29: loss is 4.189013287756178 acc is 0.6396666666666667\n",
      "Epoch 30: loss is 4.32095796002282 acc is 0.6257777777777778\n",
      "your loss is 5.180682182312012 and correct 56.0\n",
      "Epoch 31: loss is 4.43172090848287 acc is 0.6292222222222222\n",
      "your loss is 4.440581321716309 and correct 68.0\n",
      "Epoch 32: loss is 4.477768476804098 acc is 0.6456666666666667\n",
      "your loss is 4.255372524261475 and correct 65.0\n",
      "Epoch 33: loss is 4.613644689983792 acc is 0.6253333333333333\n",
      "your loss is 3.8563053607940674 and correct 78.0\n",
      "Epoch 34: loss is 4.590380316310458 acc is 0.65\n",
      "your loss is 4.71022367477417 and correct 61.0\n",
      "Epoch 35: loss is 4.598197730382283 acc is 0.6558888888888889\n",
      "your loss is 4.98022985458374 and correct 63.0\n",
      "Epoch 36: loss is 4.804856718911065 acc is 0.6323333333333333\n",
      "your loss is 5.084120273590088 and correct 59.0\n",
      "Epoch 37: loss is 4.781136560440063 acc is 0.6456666666666667\n",
      "your loss is 5.355411529541016 and correct 57.0\n",
      "Epoch 38: loss is 4.841882695092095 acc is 0.6575555555555556\n",
      "your loss is 4.335713863372803 and correct 74.0\n",
      "Epoch 39: loss is 4.800305864546034 acc is 0.6716666666666666\n",
      "Epoch 40: loss is 4.756572575039334 acc is 0.7046666666666667\n",
      "your loss is 4.774046897888184 and correct 74.0\n",
      "Epoch 41: loss is 4.892836825052897 acc is 0.6805555555555556\n",
      "your loss is 5.065682888031006 and correct 64.0\n",
      "Epoch 42: loss is 4.914371347427368 acc is 0.6838888888888889\n",
      "your loss is 5.303974628448486 and correct 65.0\n",
      "Epoch 43: loss is 4.936522907680935 acc is 0.6933333333333334\n",
      "your loss is 4.819576263427734 and correct 79.0\n",
      "Epoch 44: loss is 4.855258613162571 acc is 0.7143333333333334\n",
      "your loss is 4.844065189361572 and correct 70.0\n",
      "Epoch 45: loss is 4.880465523401896 acc is 0.7162222222222222\n",
      "your loss is 4.579471111297607 and correct 69.0\n",
      "Epoch 46: loss is 4.8865343623691135 acc is 0.7247777777777777\n",
      "your loss is 5.152347564697266 and correct 69.0\n",
      "Epoch 47: loss is 5.047314559088813 acc is 0.7052222222222222\n",
      "your loss is 4.970497131347656 and correct 78.0\n",
      "Epoch 48: loss is 4.9171575228373205 acc is 0.7432222222222222\n",
      "your loss is 4.956353664398193 and correct 73.0\n",
      "Epoch 49: loss is 4.909550015131632 acc is 0.7531111111111111\n",
      "Epoch 50: loss is 5.024470387564765 acc is 0.7324444444444445\n",
      "your loss is 4.771717548370361 and correct 78.0\n",
      "Epoch 51: loss is 5.014881748623318 acc is 0.7471111111111111\n",
      "your loss is 5.829387664794922 and correct 64.0\n",
      "Epoch 52: loss is 5.17657405005561 acc is 0.7266666666666667\n",
      "your loss is 4.718581676483154 and correct 79.0\n",
      "Epoch 53: loss is 5.238810025321113 acc is 0.7314444444444445\n",
      "your loss is 4.913189888000488 and correct 76.0\n",
      "Epoch 54: loss is 5.197850735982259 acc is 0.7473333333333333\n",
      "your loss is 5.156003952026367 and correct 76.0\n",
      "Epoch 55: loss is 5.254295757081773 acc is 0.7424444444444445\n",
      "your loss is 5.016855716705322 and correct 81.0\n",
      "Epoch 56: loss is 5.4729271676805284 acc is 0.7136666666666667\n",
      "your loss is 5.94580602645874 and correct 62.0\n",
      "Epoch 57: loss is 5.622860966788398 acc is 0.7105555555555556\n",
      "your loss is 5.938992500305176 and correct 70.0\n",
      "Epoch 58: loss is 5.6730011039310035 acc is 0.7081111111111111\n",
      "your loss is 5.880995273590088 and correct 64.0\n",
      "Epoch 59: loss is 5.951476181877984 acc is 0.6866666666666666\n",
      "Epoch 60: loss is 6.032020526462131 acc is 0.6798888888888889\n",
      "your loss is 5.691844940185547 and correct 71.0\n",
      "Epoch 61: loss is 6.185416147443983 acc is 0.672\n",
      "your loss is 6.431520462036133 and correct 63.0\n",
      "Epoch 62: loss is 6.2813296053144665 acc is 0.6784444444444444\n",
      "your loss is 6.096853733062744 and correct 71.0\n",
      "Epoch 63: loss is 6.360352622138129 acc is 0.6903333333333334\n",
      "your loss is 6.220480442047119 and correct 70.0\n",
      "Epoch 64: loss is 6.42744976149665 acc is 0.6838888888888889\n",
      "your loss is 7.186044692993164 and correct 62.0\n",
      "Epoch 65: loss is 6.593525335523817 acc is 0.6724444444444444\n",
      "your loss is 6.5139312744140625 and correct 69.0\n",
      "Epoch 66: loss is 6.672086932924059 acc is 0.6796666666666666\n",
      "your loss is 6.652293682098389 and correct 70.0\n",
      "Epoch 67: loss is 6.791724226209852 acc is 0.6653333333333333\n",
      "your loss is 6.706282615661621 and correct 72.0\n",
      "Epoch 68: loss is 6.784400092230903 acc is 0.675\n",
      "your loss is 7.943542957305908 and correct 56.0\n",
      "Epoch 69: loss is 6.883036152521769 acc is 0.676\n",
      "Epoch 70: loss is 7.297536940044827 acc is 0.6343333333333333\n",
      "your loss is 8.300834655761719 and correct 45.0\n",
      "Epoch 71: loss is 7.372404501173231 acc is 0.6155555555555555\n",
      "your loss is 7.001628398895264 and correct 65.0\n",
      "Epoch 72: loss is 7.1540108892652725 acc is 0.6755555555555556\n",
      "your loss is 7.261378288269043 and correct 63.0\n",
      "Epoch 73: loss is 7.178689803017511 acc is 0.6615555555555556\n",
      "your loss is 7.301257133483887 and correct 64.0\n",
      "Epoch 74: loss is 7.176757907867431 acc is 0.6745555555555556\n",
      "your loss is 6.976430416107178 and correct 78.0\n",
      "Epoch 75: loss is 7.037284437815348 acc is 0.6985555555555556\n",
      "your loss is 6.557286739349365 and correct 75.0\n",
      "Epoch 76: loss is 6.978343862957424 acc is 0.6992222222222222\n",
      "your loss is 6.755521774291992 and correct 72.0\n",
      "Epoch 77: loss is 7.017618221706814 acc is 0.7035555555555556\n",
      "your loss is 6.430649757385254 and correct 80.0\n",
      "Epoch 78: loss is 6.8880859004126656 acc is 0.7297777777777777\n",
      "your loss is 6.5101141929626465 and correct 76.0\n",
      "Epoch 79: loss is 6.675329971313476 acc is 0.7536666666666667\n"
     ]
    },
    {
     "name": "stdout",
     "output_type": "stream",
     "text": [
      "Epoch 80: loss is 6.961985354953342 acc is 0.699\n",
      "your loss is 7.283041000366211 and correct 79.0\n",
      "Epoch 81: loss is 6.945878807703654 acc is 0.7288888888888889\n",
      "your loss is 7.138949394226074 and correct 71.0\n",
      "Epoch 82: loss is 6.881604157553779 acc is 0.7306666666666667\n",
      "your loss is 6.427880764007568 and correct 78.0\n",
      "Epoch 83: loss is 6.820277161068386 acc is 0.7437777777777778\n",
      "your loss is 6.315528869628906 and correct 78.0\n",
      "Epoch 84: loss is 6.846830198499892 acc is 0.7276666666666667\n",
      "your loss is 6.601067066192627 and correct 76.0\n",
      "Epoch 85: loss is 7.007471015718248 acc is 0.7105555555555556\n",
      "your loss is 7.702606201171875 and correct 64.0\n",
      "Epoch 86: loss is 7.136916155285306 acc is 0.7004444444444444\n",
      "your loss is 7.316202640533447 and correct 57.0\n",
      "Epoch 87: loss is 7.068745136260986 acc is 0.7182222222222222\n",
      "your loss is 7.097110271453857 and correct 78.0\n",
      "Epoch 88: loss is 6.914406967163086 acc is 0.7421111111111112\n",
      "your loss is 6.927504062652588 and correct 73.0\n",
      "Epoch 89: loss is 6.822685888078477 acc is 0.7582222222222222\n",
      "Epoch 90: loss is 6.834909703996447 acc is 0.7543333333333333\n",
      "your loss is 7.142976760864258 and correct 79.0\n",
      "Epoch 91: loss is 6.8542903476291235 acc is 0.7506666666666667\n",
      "your loss is 7.107203483581543 and correct 71.0\n",
      "Epoch 92: loss is 7.006346416473389 acc is 0.7281111111111112\n",
      "your loss is 7.266003608703613 and correct 72.0\n",
      "Epoch 93: loss is 6.9840839915805395 acc is 0.7416666666666667\n",
      "your loss is 6.966274738311768 and correct 75.0\n",
      "Epoch 94: loss is 6.894872750176324 acc is 0.7608888888888888\n",
      "your loss is 6.789044380187988 and correct 76.0\n",
      "Epoch 95: loss is 6.788775507609049 acc is 0.77\n",
      "your loss is 6.626903057098389 and correct 82.0\n",
      "Epoch 96: loss is 6.883532428741455 acc is 0.7494444444444445\n",
      "your loss is 6.88961935043335 and correct 70.0\n",
      "Epoch 97: loss is 6.940837807125515 acc is 0.7505555555555555\n",
      "your loss is 7.073697090148926 and correct 68.0\n",
      "Epoch 98: loss is 6.813758998446994 acc is 0.7658888888888888\n",
      "your loss is 6.964310646057129 and correct 72.0\n",
      "Epoch 99: loss is 6.931542423036364 acc is 0.7518888888888889\n",
      "Epoch 100: loss is 6.90088382297092 acc is 0.7545555555555555\n",
      "your loss is 6.978074073791504 and correct 71.0\n",
      "Epoch 101: loss is 7.097550503412882 acc is 0.7285555555555555\n",
      "your loss is 7.285167694091797 and correct 64.0\n",
      "Epoch 102: loss is 7.110627433988783 acc is 0.7374444444444445\n",
      "your loss is 7.305580139160156 and correct 73.0\n",
      "Epoch 103: loss is 7.004511001374986 acc is 0.7511111111111111\n",
      "your loss is 7.20106315612793 and correct 67.0\n",
      "Epoch 104: loss is 6.934523269865248 acc is 0.7595555555555555\n",
      "your loss is 7.057491302490234 and correct 79.0\n",
      "Epoch 105: loss is 7.0699888070424395 acc is 0.7383333333333333\n",
      "your loss is 7.12022590637207 and correct 75.0\n",
      "Epoch 106: loss is 7.093559900919597 acc is 0.7474444444444445\n",
      "your loss is 7.036167144775391 and correct 77.0\n",
      "Epoch 107: loss is 6.973779890272352 acc is 0.7507777777777778\n",
      "your loss is 6.416934490203857 and correct 82.0\n",
      "Epoch 108: loss is 6.842683474222819 acc is 0.7752222222222223\n",
      "your loss is 6.6552300453186035 and correct 79.0\n",
      "Epoch 109: loss is 6.771500587463379 acc is 0.7805555555555556\n",
      "Epoch 110: loss is 6.8157628430260555 acc is 0.7687777777777778\n",
      "your loss is 7.007074356079102 and correct 76.0\n",
      "Epoch 111: loss is 6.760909403695001 acc is 0.7811111111111111\n",
      "your loss is 7.117090702056885 and correct 69.0\n",
      "Epoch 112: loss is 6.762323061625163 acc is 0.771\n",
      "your loss is 6.550032138824463 and correct 78.0\n",
      "Epoch 113: loss is 6.763740576638115 acc is 0.7716666666666666\n",
      "your loss is 6.784179210662842 and correct 76.0\n",
      "Epoch 114: loss is 6.76106047100491 acc is 0.7712222222222223\n",
      "your loss is 7.278931140899658 and correct 74.0\n",
      "Epoch 115: loss is 6.67757773399353 acc is 0.7844444444444445\n",
      "your loss is 7.027102470397949 and correct 72.0\n",
      "Epoch 116: loss is 6.658396138085259 acc is 0.7791111111111111\n",
      "your loss is 6.4547505378723145 and correct 87.0\n",
      "Epoch 117: loss is 6.577998415629069 acc is 0.7954444444444444\n",
      "your loss is 6.691659927368164 and correct 77.0\n",
      "Epoch 118: loss is 6.606965552435981 acc is 0.7791111111111111\n",
      "your loss is 6.173519611358643 and correct 86.0\n",
      "Epoch 119: loss is 6.4423399660322405 acc is 0.8051111111111111\n",
      "Epoch 120: loss is 6.20154595375061 acc is 0.8292222222222222\n",
      "your loss is 6.231460094451904 and correct 85.0\n",
      "Epoch 121: loss is 6.30350431866116 acc is 0.8\n",
      "your loss is 6.582004070281982 and correct 78.0\n",
      "Epoch 122: loss is 6.224018949932522 acc is 0.8095555555555556\n",
      "your loss is 6.754499435424805 and correct 77.0\n",
      "Epoch 123: loss is 6.251288557052613 acc is 0.8105555555555556\n",
      "your loss is 6.499459266662598 and correct 79.0\n",
      "Epoch 124: loss is 6.140078581704033 acc is 0.8211111111111111\n",
      "your loss is 6.013967514038086 and correct 80.0\n",
      "Epoch 125: loss is 6.141917117436727 acc is 0.8117777777777778\n",
      "your loss is 5.853559970855713 and correct 89.0\n",
      "Epoch 126: loss is 6.153837521870931 acc is 0.8071111111111111\n",
      "your loss is 6.63970422744751 and correct 83.0\n",
      "Epoch 127: loss is 6.097840982013278 acc is 0.8151111111111111\n",
      "your loss is 6.159026145935059 and correct 78.0\n",
      "Epoch 128: loss is 6.142869732115003 acc is 0.806\n",
      "your loss is 5.824227809906006 and correct 85.0\n",
      "Epoch 129: loss is 6.094826984405517 acc is 0.8141111111111111\n",
      "Epoch 130: loss is 6.087464788224962 acc is 0.821\n",
      "your loss is 6.475083827972412 and correct 85.0\n",
      "Epoch 131: loss is 6.063866991466946 acc is 0.8146666666666667\n",
      "your loss is 5.7935943603515625 and correct 86.0\n",
      "Epoch 132: loss is 6.238343816333347 acc is 0.788\n",
      "your loss is 6.409180641174316 and correct 73.0\n",
      "Epoch 133: loss is 6.250725089179145 acc is 0.7946666666666666\n",
      "your loss is 6.1998772621154785 and correct 84.0\n",
      "Epoch 134: loss is 6.227411037021213 acc is 0.8022222222222222\n",
      "your loss is 6.333649635314941 and correct 80.0\n",
      "Epoch 135: loss is 6.132551876703898 acc is 0.8157777777777778\n",
      "your loss is 6.132959365844727 and correct 82.0\n",
      "Epoch 136: loss is 6.188285647498237 acc is 0.7997777777777778\n",
      "your loss is 6.9249186515808105 and correct 72.0\n",
      "Epoch 137: loss is 6.13699279361301 acc is 0.8104444444444444\n",
      "your loss is 5.659480094909668 and correct 90.0\n",
      "Epoch 138: loss is 6.054659403695 acc is 0.8186666666666667\n",
      "your loss is 5.921138763427734 and correct 83.0\n",
      "Epoch 139: loss is 6.061405754089355 acc is 0.8165555555555556\n",
      "Epoch 140: loss is 5.9737783484988745 acc is 0.8312222222222222\n",
      "your loss is 6.317469596862793 and correct 80.0\n",
      "Epoch 141: loss is 6.198880630069309 acc is 0.7901111111111111\n",
      "your loss is 6.111921787261963 and correct 76.0\n",
      "Epoch 142: loss is 6.140355560514662 acc is 0.8084444444444444\n",
      "your loss is 6.360217094421387 and correct 78.0\n",
      "Epoch 143: loss is 6.214121294021607 acc is 0.7965555555555556\n",
      "your loss is 6.318156719207764 and correct 74.0\n",
      "Epoch 144: loss is 6.355020141601562 acc is 0.7833333333333333\n",
      "your loss is 6.608889579772949 and correct 73.0\n",
      "Epoch 145: loss is 6.704429674148559 acc is 0.7493333333333333\n",
      "your loss is 6.436089038848877 and correct 82.0\n",
      "Epoch 146: loss is 6.726665231916639 acc is 0.765\n",
      "your loss is 6.780711650848389 and correct 82.0\n",
      "Epoch 147: loss is 6.609898376464844 acc is 0.7874444444444444\n",
      "your loss is 6.063963890075684 and correct 85.0\n",
      "Epoch 148: loss is 6.534260357750787 acc is 0.7934444444444444\n",
      "your loss is 6.514099597930908 and correct 76.0\n",
      "Epoch 149: loss is 6.588727686140272 acc is 0.7833333333333333\n",
      "Epoch 150: loss is 6.571593152152167 acc is 0.7864444444444444\n",
      "your loss is 6.512186527252197 and correct 80.0\n",
      "Epoch 151: loss is 6.514343892203437 acc is 0.7937777777777778\n",
      "your loss is 6.4160895347595215 and correct 80.0\n",
      "Epoch 152: loss is 6.485686630672879 acc is 0.8037777777777778\n",
      "your loss is 6.410704612731934 and correct 76.0\n",
      "Epoch 153: loss is 6.414246484968397 acc is 0.7963333333333333\n",
      "your loss is 6.223701000213623 and correct 82.0\n",
      "Epoch 154: loss is 6.444504679573907 acc is 0.7972222222222223\n",
      "your loss is 6.333292007446289 and correct 79.0\n",
      "Epoch 155: loss is 6.453488371107313 acc is 0.8005555555555556\n",
      "your loss is 6.68817138671875 and correct 78.0\n",
      "Epoch 156: loss is 6.448063219918145 acc is 0.7965555555555556\n",
      "your loss is 6.339710712432861 and correct 86.0\n",
      "Epoch 157: loss is 6.368833679623074 acc is 0.8036666666666666\n",
      "your loss is 6.425506591796875 and correct 76.0\n"
     ]
    },
    {
     "name": "stdout",
     "output_type": "stream",
     "text": [
      "Epoch 158: loss is 6.418947548336453 acc is 0.8037777777777778\n",
      "your loss is 6.000966548919678 and correct 86.0\n",
      "Epoch 159: loss is 6.347655481762356 acc is 0.8053333333333333\n",
      "Epoch 160: loss is 6.390146949556139 acc is 0.8004444444444444\n",
      "your loss is 6.329583168029785 and correct 79.0\n",
      "Epoch 161: loss is 6.388465971416897 acc is 0.7878888888888889\n",
      "your loss is 6.842957019805908 and correct 71.0\n",
      "Epoch 162: loss is 6.5283058113522 acc is 0.7817777777777778\n",
      "your loss is 6.159966945648193 and correct 79.0\n",
      "Epoch 163: loss is 6.466139862272475 acc is 0.7928888888888889\n",
      "your loss is 6.487658500671387 and correct 75.0\n",
      "Epoch 164: loss is 6.541124799516466 acc is 0.7868888888888889\n",
      "your loss is 6.664816379547119 and correct 81.0\n",
      "Epoch 165: loss is 6.536720599068536 acc is 0.784\n",
      "your loss is 6.5925798416137695 and correct 85.0\n",
      "Epoch 166: loss is 6.619008451037937 acc is 0.7901111111111111\n",
      "your loss is 6.53759765625 and correct 81.0\n",
      "Epoch 167: loss is 6.6411493937174475 acc is 0.7813333333333333\n",
      "your loss is 6.310163497924805 and correct 86.0\n",
      "Epoch 168: loss is 6.556545580757989 acc is 0.7931111111111111\n",
      "your loss is 6.411959648132324 and correct 83.0\n",
      "Epoch 169: loss is 6.570558102925618 acc is 0.7876666666666666\n",
      "Epoch 170: loss is 6.572812498940362 acc is 0.7798888888888889\n",
      "your loss is 6.645893096923828 and correct 80.0\n",
      "Epoch 171: loss is 6.614870770772298 acc is 0.7828888888888889\n",
      "your loss is 6.7313551902771 and correct 76.0\n",
      "Epoch 172: loss is 6.624928442637126 acc is 0.7715555555555556\n",
      "your loss is 6.427712917327881 and correct 81.0\n",
      "Epoch 173: loss is 6.634585587183635 acc is 0.7724444444444445\n",
      "your loss is 7.423996925354004 and correct 70.0\n",
      "Epoch 174: loss is 6.546297799216377 acc is 0.7918888888888889\n",
      "your loss is 6.561005592346191 and correct 77.0\n",
      "Epoch 175: loss is 6.541732353634305 acc is 0.7895555555555556\n",
      "your loss is 6.217549800872803 and correct 83.0\n",
      "Epoch 176: loss is 6.537943410873413 acc is 0.7792222222222223\n",
      "your loss is 6.8990678787231445 and correct 70.0\n",
      "Epoch 177: loss is 6.532241694132487 acc is 0.7896666666666666\n",
      "your loss is 6.548597812652588 and correct 80.0\n",
      "Epoch 178: loss is 6.6054802788628475 acc is 0.7847777777777778\n",
      "your loss is 6.178593158721924 and correct 86.0\n",
      "Epoch 179: loss is 6.607905933592055 acc is 0.7811111111111111\n",
      "Epoch 180: loss is 6.531370014614529 acc is 0.7856666666666666\n",
      "your loss is 6.046468734741211 and correct 86.0\n",
      "Epoch 181: loss is 6.424058824115329 acc is 0.7955555555555556\n",
      "your loss is 6.294129848480225 and correct 82.0\n",
      "Epoch 182: loss is 6.365930244657728 acc is 0.798\n",
      "your loss is 6.158648490905762 and correct 85.0\n",
      "Epoch 183: loss is 6.424510611428155 acc is 0.7855555555555556\n",
      "your loss is 6.551550388336182 and correct 73.0\n",
      "Epoch 184: loss is 6.411807648340861 acc is 0.7913333333333333\n",
      "your loss is 6.260601997375488 and correct 76.0\n",
      "Epoch 185: loss is 6.433328946431478 acc is 0.7908888888888889\n",
      "your loss is 6.411223411560059 and correct 76.0\n",
      "Epoch 186: loss is 6.45500578350491 acc is 0.7895555555555556\n",
      "your loss is 6.498312950134277 and correct 81.0\n",
      "Epoch 187: loss is 6.454121584362454 acc is 0.7938888888888889\n",
      "your loss is 6.171511650085449 and correct 87.0\n",
      "Epoch 188: loss is 6.327784527672661 acc is 0.8125555555555556\n",
      "your loss is 6.466829299926758 and correct 77.0\n",
      "Epoch 189: loss is 6.312220668792724 acc is 0.7995555555555556\n",
      "Epoch 190: loss is 6.241842418246799 acc is 0.8077777777777778\n",
      "your loss is 6.240034580230713 and correct 78.0\n",
      "Epoch 191: loss is 6.08237100177341 acc is 0.8267777777777777\n",
      "your loss is 6.279301166534424 and correct 73.0\n",
      "Epoch 192: loss is 6.100589497884115 acc is 0.8151111111111111\n",
      "your loss is 5.994610786437988 and correct 78.0\n",
      "Epoch 193: loss is 6.047710381613838 acc is 0.8224444444444444\n",
      "your loss is 5.997625827789307 and correct 80.0\n",
      "Epoch 194: loss is 6.001201989915636 acc is 0.8192222222222222\n",
      "your loss is 6.523727893829346 and correct 71.0\n",
      "Epoch 195: loss is 6.115086974038018 acc is 0.8012222222222222\n",
      "your loss is 6.280653953552246 and correct 75.0\n",
      "Epoch 196: loss is 6.073539723290337 acc is 0.8068888888888889\n",
      "your loss is 6.128907680511475 and correct 82.0\n",
      "Epoch 197: loss is 6.075206571155125 acc is 0.806\n",
      "your loss is 5.853254318237305 and correct 83.0\n",
      "Epoch 198: loss is 5.980696127149794 acc is 0.8146666666666667\n",
      "your loss is 6.0189032554626465 and correct 77.0\n",
      "Epoch 199: loss is 5.916323884328206 acc is 0.8237777777777778\n"
     ]
    },
    {
     "data": {
      "text/plain": [
       "(5.9163238843282064, 0.82377777777777783)"
      ]
     },
     "execution_count": 190,
     "metadata": {},
     "output_type": "execute_result"
    }
   ],
   "source": [
    "sess = tf.Session()\n",
    "sess.run(tf.global_variables_initializer())\n",
    "print('Training')\n",
    "solver(sess, y_out, X_train, y_train, epochs = 200, batch_size=100,print_every=100,training=train_step)"
   ]
  },
  {
   "cell_type": "code",
   "execution_count": 193,
   "metadata": {},
   "outputs": [
    {
     "name": "stdout",
     "output_type": "stream",
     "text": [
      "Epoch 0: loss is 12.765187074626917 acc is 0.018821603927986905\n"
     ]
    },
    {
     "data": {
      "text/plain": [
       "(12.765187074626917, 0.018821603927986905)"
      ]
     },
     "execution_count": 193,
     "metadata": {},
     "output_type": "execute_result"
    }
   ],
   "source": [
    "solver(sess, y_out, X_val, y_val, epochs=1, batch_size=100)"
   ]
  },
  {
   "cell_type": "code",
   "execution_count": 194,
   "metadata": {},
   "outputs": [
    {
     "name": "stdout",
     "output_type": "stream",
     "text": [
      "Epoch 0: loss is 7.52028079562717 acc is 0.5687777777777778\n"
     ]
    },
    {
     "data": {
      "text/plain": [
       "(7.52028079562717, 0.56877777777777783)"
      ]
     },
     "execution_count": 194,
     "metadata": {},
     "output_type": "execute_result"
    }
   ],
   "source": [
    "solver(sess, y_out, X_train, y_train, epochs=1, batch_size=100)"
   ]
  },
  {
   "cell_type": "code",
   "execution_count": 196,
   "metadata": {},
   "outputs": [],
   "source": [
    "!export CUDA_VISIBLE_DEVICES=0"
   ]
  },
  {
   "cell_type": "code",
   "execution_count": 197,
   "metadata": {
    "collapsed": true
   },
   "outputs": [],
   "source": [
    "sess.close()"
   ]
  },
  {
   "cell_type": "code",
   "execution_count": null,
   "metadata": {
    "collapsed": true
   },
   "outputs": [],
   "source": []
  }
 ],
 "metadata": {
  "kernelspec": {
   "display_name": "Python 3",
   "language": "python",
   "name": "python3"
  },
  "language_info": {
   "codemirror_mode": {
    "name": "ipython",
    "version": 3
   },
   "file_extension": ".py",
   "mimetype": "text/x-python",
   "name": "python",
   "nbconvert_exporter": "python",
   "pygments_lexer": "ipython3",
   "version": "3.6.1"
  }
 },
 "nbformat": 4,
 "nbformat_minor": 2
}
